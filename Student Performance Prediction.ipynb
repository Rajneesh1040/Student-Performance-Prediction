{
 "cells": [
  {
   "cell_type": "markdown",
   "id": "a8cefb09",
   "metadata": {},
   "source": [
    "<span style=\"color:orange\">\n",
    "\n",
    "# Student Performance Prediction using Machine Learning"
   ]
  },
  {
   "cell_type": "markdown",
   "id": "36df203e",
   "metadata": {},
   "source": [
    "### About the Dataset\n",
    "\n",
    "**Description:**\n",
    "The Student Performance Dataset is designed to examine factors influencing academic student performance. It comprises 10,000 student records, each containing predictors and a performance index.\n",
    "\n",
    "**Variables:**\n",
    "- **Hours Studied:** Total hours spent studying by each student.\n",
    "- **Previous Scores:** Scores from previous tests.\n",
    "- **Extracurricular Activities:** Whether the student participates in extracurricular activities (Yes or No).\n",
    "- **Sleep Hours:** Average hours of sleep per day for each student.\n",
    "- **Sample Question Papers Practiced:** Number of sample question papers the student has practiced.\n",
    "\n",
    "**Target Variable:**\n",
    "- **Performance Index:** Rounded measure of each student's overall academic performance, ranging from 10 to 100. Higher values indicate better performance.\n",
    "\n",
    "**Dataset Purpose:**\n",
    "The dataset aims to provide insights into how variables such as studying hours, previous scores, extracurricular activities, sleep patterns, and practice with sample question papers relate to student performance. It is a synthetic dataset created for illustrative purposes, offering a platform for researchers and data analysts to explore educational factors and their impacts.\n",
    "\n",
    "**Note:**\n",
    "This dataset is synthetic, meaning it was generated artificially for illustrative purposes. Thus, while it facilitates analysis of educational influences, the relationships observed may not fully reflect real-world scenarios.\n"
   ]
  },
  {
   "cell_type": "markdown",
   "id": "1caec3de",
   "metadata": {},
   "source": [
    "The data can be accessed from [Student Performance Data-set](https://www.kaggle.com/datasets/nikhil7280/student-performance-multiple-linear-regression), which is a public resource."
   ]
  },
  {
   "cell_type": "markdown",
   "id": "d11ce2bc",
   "metadata": {},
   "source": [
    "**The objective of using this dataset is to predict the `Performance` of Students based on the extracted features provided in `Student_Performance.csv`.**"
   ]
  },
  {
   "cell_type": "markdown",
   "id": "bc935755",
   "metadata": {},
   "source": [
    "# 1. Importing the Libraries"
   ]
  },
  {
   "cell_type": "code",
   "execution_count": 1,
   "id": "5fb2b1b1",
   "metadata": {},
   "outputs": [],
   "source": [
    "import numpy as np\n",
    "import pandas as pd\n",
    "\n",
    "import os\n",
    "import opendatasets as od\n",
    "import matplotlib.pyplot as plt\n",
    "import matplotlib\n",
    "%matplotlib inline\n",
    "import seaborn as sns\n",
    "\n",
    "from sklearn.model_selection import train_test_split\n",
    "from sklearn.linear_model import LinearRegression,RidgeCV,LassoCV,ElasticNetCV\n",
    "from sklearn.preprocessing import StandardScaler, OneHotEncoder, MinMaxScaler\n",
    "from sklearn.preprocessing import PolynomialFeatures\n",
    "from sklearn.tree import DecisionTreeRegressor\n",
    "from sklearn.ensemble import RandomForestRegressor\n",
    "from sklearn.neighbors import KNeighborsRegressor\n",
    "from sklearn.svm import SVR\n",
    "from xgboost import XGBRegressor\n",
    "\n",
    "from sklearn.metrics import root_mean_squared_error,r2_score,mean_squared_error"
   ]
  },
  {
   "cell_type": "code",
   "execution_count": 2,
   "id": "6f9fac06",
   "metadata": {},
   "outputs": [],
   "source": [
    "# Customization for Visualisation of Graphs\n",
    "sns.set_style('darkgrid')\n",
    "matplotlib.rcParams['font.size'] = 14 \n",
    "matplotlib.rcParams['figure.figsize'] = (10,6)\n",
    "matplotlib.rcParams['figure.facecolor'] = '#00000000'"
   ]
  },
  {
   "cell_type": "markdown",
   "id": "a7a9b852",
   "metadata": {},
   "source": [
    "# 2. Data Collection and Preprocessing"
   ]
  },
  {
   "cell_type": "code",
   "execution_count": 3,
   "id": "a22fd79e",
   "metadata": {},
   "outputs": [
    {
     "name": "stdout",
     "output_type": "stream",
     "text": [
      "Skipping, found downloaded files in \".\\student-performance-multiple-linear-regression\" (use force=True to force download)\n"
     ]
    }
   ],
   "source": [
    "od.download('https://www.kaggle.com/datasets/nikhil7280/student-performance-multiple-linear-regression')"
   ]
  },
  {
   "cell_type": "code",
   "execution_count": 4,
   "id": "5376a792",
   "metadata": {},
   "outputs": [
    {
     "data": {
      "text/plain": [
       "['Student_Performance.csv']"
      ]
     },
     "execution_count": 4,
     "metadata": {},
     "output_type": "execute_result"
    }
   ],
   "source": [
    "os.listdir('student-performance-multiple-linear-regression')"
   ]
  },
  {
   "cell_type": "code",
   "execution_count": 157,
   "id": "a8819843",
   "metadata": {},
   "outputs": [
    {
     "data": {
      "text/html": [
       "<div>\n",
       "<style scoped>\n",
       "    .dataframe tbody tr th:only-of-type {\n",
       "        vertical-align: middle;\n",
       "    }\n",
       "\n",
       "    .dataframe tbody tr th {\n",
       "        vertical-align: top;\n",
       "    }\n",
       "\n",
       "    .dataframe thead th {\n",
       "        text-align: right;\n",
       "    }\n",
       "</style>\n",
       "<table border=\"1\" class=\"dataframe\">\n",
       "  <thead>\n",
       "    <tr style=\"text-align: right;\">\n",
       "      <th></th>\n",
       "      <th>Hours Studied</th>\n",
       "      <th>Previous Scores</th>\n",
       "      <th>Extracurricular Activities</th>\n",
       "      <th>Sleep Hours</th>\n",
       "      <th>Sample Question Papers Practiced</th>\n",
       "      <th>Performance Index</th>\n",
       "    </tr>\n",
       "  </thead>\n",
       "  <tbody>\n",
       "    <tr>\n",
       "      <th>0</th>\n",
       "      <td>7</td>\n",
       "      <td>99</td>\n",
       "      <td>Yes</td>\n",
       "      <td>9</td>\n",
       "      <td>1</td>\n",
       "      <td>91.0</td>\n",
       "    </tr>\n",
       "    <tr>\n",
       "      <th>1</th>\n",
       "      <td>4</td>\n",
       "      <td>82</td>\n",
       "      <td>No</td>\n",
       "      <td>4</td>\n",
       "      <td>2</td>\n",
       "      <td>65.0</td>\n",
       "    </tr>\n",
       "    <tr>\n",
       "      <th>2</th>\n",
       "      <td>8</td>\n",
       "      <td>51</td>\n",
       "      <td>Yes</td>\n",
       "      <td>7</td>\n",
       "      <td>2</td>\n",
       "      <td>45.0</td>\n",
       "    </tr>\n",
       "    <tr>\n",
       "      <th>3</th>\n",
       "      <td>5</td>\n",
       "      <td>52</td>\n",
       "      <td>Yes</td>\n",
       "      <td>5</td>\n",
       "      <td>2</td>\n",
       "      <td>36.0</td>\n",
       "    </tr>\n",
       "    <tr>\n",
       "      <th>4</th>\n",
       "      <td>7</td>\n",
       "      <td>75</td>\n",
       "      <td>No</td>\n",
       "      <td>8</td>\n",
       "      <td>5</td>\n",
       "      <td>66.0</td>\n",
       "    </tr>\n",
       "  </tbody>\n",
       "</table>\n",
       "</div>"
      ],
      "text/plain": [
       "   Hours Studied  Previous Scores Extracurricular Activities  Sleep Hours  \\\n",
       "0              7               99                        Yes            9   \n",
       "1              4               82                         No            4   \n",
       "2              8               51                        Yes            7   \n",
       "3              5               52                        Yes            5   \n",
       "4              7               75                         No            8   \n",
       "\n",
       "   Sample Question Papers Practiced  Performance Index  \n",
       "0                                 1               91.0  \n",
       "1                                 2               65.0  \n",
       "2                                 2               45.0  \n",
       "3                                 2               36.0  \n",
       "4                                 5               66.0  "
      ]
     },
     "execution_count": 157,
     "metadata": {},
     "output_type": "execute_result"
    }
   ],
   "source": [
    "df = pd.read_csv('student-performance-multiple-linear-regression/Student_Performance.csv')\n",
    "df.head(5)"
   ]
  },
  {
   "cell_type": "code",
   "execution_count": 6,
   "id": "b82330dc",
   "metadata": {},
   "outputs": [
    {
     "name": "stdout",
     "output_type": "stream",
     "text": [
      "<class 'pandas.core.frame.DataFrame'>\n",
      "RangeIndex: 10000 entries, 0 to 9999\n",
      "Data columns (total 6 columns):\n",
      " #   Column                            Non-Null Count  Dtype  \n",
      "---  ------                            --------------  -----  \n",
      " 0   Hours Studied                     10000 non-null  int64  \n",
      " 1   Previous Scores                   10000 non-null  int64  \n",
      " 2   Extracurricular Activities        10000 non-null  object \n",
      " 3   Sleep Hours                       10000 non-null  int64  \n",
      " 4   Sample Question Papers Practiced  10000 non-null  int64  \n",
      " 5   Performance Index                 10000 non-null  float64\n",
      "dtypes: float64(1), int64(4), object(1)\n",
      "memory usage: 468.9+ KB\n"
     ]
    }
   ],
   "source": [
    "df.info()"
   ]
  },
  {
   "cell_type": "code",
   "execution_count": 7,
   "id": "f9be7c7e",
   "metadata": {},
   "outputs": [
    {
     "data": {
      "text/plain": [
       "Hours Studied                       0\n",
       "Previous Scores                     0\n",
       "Extracurricular Activities          0\n",
       "Sleep Hours                         0\n",
       "Sample Question Papers Practiced    0\n",
       "Performance Index                   0\n",
       "dtype: int64"
      ]
     },
     "execution_count": 7,
     "metadata": {},
     "output_type": "execute_result"
    }
   ],
   "source": [
    "# Check for null value\n",
    "df.isna().sum()"
   ]
  },
  {
   "cell_type": "code",
   "execution_count": 8,
   "id": "31c21dab",
   "metadata": {},
   "outputs": [
    {
     "data": {
      "text/html": [
       "<div>\n",
       "<style scoped>\n",
       "    .dataframe tbody tr th:only-of-type {\n",
       "        vertical-align: middle;\n",
       "    }\n",
       "\n",
       "    .dataframe tbody tr th {\n",
       "        vertical-align: top;\n",
       "    }\n",
       "\n",
       "    .dataframe thead th {\n",
       "        text-align: right;\n",
       "    }\n",
       "</style>\n",
       "<table border=\"1\" class=\"dataframe\">\n",
       "  <thead>\n",
       "    <tr style=\"text-align: right;\">\n",
       "      <th></th>\n",
       "      <th>Hours Studied</th>\n",
       "      <th>Previous Scores</th>\n",
       "      <th>Sleep Hours</th>\n",
       "      <th>Sample Question Papers Practiced</th>\n",
       "      <th>Performance Index</th>\n",
       "    </tr>\n",
       "  </thead>\n",
       "  <tbody>\n",
       "    <tr>\n",
       "      <th>count</th>\n",
       "      <td>10000.000000</td>\n",
       "      <td>10000.000000</td>\n",
       "      <td>10000.000000</td>\n",
       "      <td>10000.000000</td>\n",
       "      <td>10000.000000</td>\n",
       "    </tr>\n",
       "    <tr>\n",
       "      <th>mean</th>\n",
       "      <td>4.992900</td>\n",
       "      <td>69.445700</td>\n",
       "      <td>6.530600</td>\n",
       "      <td>4.583300</td>\n",
       "      <td>55.224800</td>\n",
       "    </tr>\n",
       "    <tr>\n",
       "      <th>std</th>\n",
       "      <td>2.589309</td>\n",
       "      <td>17.343152</td>\n",
       "      <td>1.695863</td>\n",
       "      <td>2.867348</td>\n",
       "      <td>19.212558</td>\n",
       "    </tr>\n",
       "    <tr>\n",
       "      <th>min</th>\n",
       "      <td>1.000000</td>\n",
       "      <td>40.000000</td>\n",
       "      <td>4.000000</td>\n",
       "      <td>0.000000</td>\n",
       "      <td>10.000000</td>\n",
       "    </tr>\n",
       "    <tr>\n",
       "      <th>25%</th>\n",
       "      <td>3.000000</td>\n",
       "      <td>54.000000</td>\n",
       "      <td>5.000000</td>\n",
       "      <td>2.000000</td>\n",
       "      <td>40.000000</td>\n",
       "    </tr>\n",
       "    <tr>\n",
       "      <th>50%</th>\n",
       "      <td>5.000000</td>\n",
       "      <td>69.000000</td>\n",
       "      <td>7.000000</td>\n",
       "      <td>5.000000</td>\n",
       "      <td>55.000000</td>\n",
       "    </tr>\n",
       "    <tr>\n",
       "      <th>75%</th>\n",
       "      <td>7.000000</td>\n",
       "      <td>85.000000</td>\n",
       "      <td>8.000000</td>\n",
       "      <td>7.000000</td>\n",
       "      <td>71.000000</td>\n",
       "    </tr>\n",
       "    <tr>\n",
       "      <th>max</th>\n",
       "      <td>9.000000</td>\n",
       "      <td>99.000000</td>\n",
       "      <td>9.000000</td>\n",
       "      <td>9.000000</td>\n",
       "      <td>100.000000</td>\n",
       "    </tr>\n",
       "  </tbody>\n",
       "</table>\n",
       "</div>"
      ],
      "text/plain": [
       "       Hours Studied  Previous Scores   Sleep Hours  \\\n",
       "count   10000.000000     10000.000000  10000.000000   \n",
       "mean        4.992900        69.445700      6.530600   \n",
       "std         2.589309        17.343152      1.695863   \n",
       "min         1.000000        40.000000      4.000000   \n",
       "25%         3.000000        54.000000      5.000000   \n",
       "50%         5.000000        69.000000      7.000000   \n",
       "75%         7.000000        85.000000      8.000000   \n",
       "max         9.000000        99.000000      9.000000   \n",
       "\n",
       "       Sample Question Papers Practiced  Performance Index  \n",
       "count                      10000.000000       10000.000000  \n",
       "mean                           4.583300          55.224800  \n",
       "std                            2.867348          19.212558  \n",
       "min                            0.000000          10.000000  \n",
       "25%                            2.000000          40.000000  \n",
       "50%                            5.000000          55.000000  \n",
       "75%                            7.000000          71.000000  \n",
       "max                            9.000000         100.000000  "
      ]
     },
     "execution_count": 8,
     "metadata": {},
     "output_type": "execute_result"
    }
   ],
   "source": [
    "df.describe()"
   ]
  },
  {
   "cell_type": "code",
   "execution_count": 158,
   "id": "e0f5e861",
   "metadata": {
    "scrolled": true
   },
   "outputs": [
    {
     "data": {
      "text/html": [
       "<div>\n",
       "<style scoped>\n",
       "    .dataframe tbody tr th:only-of-type {\n",
       "        vertical-align: middle;\n",
       "    }\n",
       "\n",
       "    .dataframe tbody tr th {\n",
       "        vertical-align: top;\n",
       "    }\n",
       "\n",
       "    .dataframe thead th {\n",
       "        text-align: right;\n",
       "    }\n",
       "</style>\n",
       "<table border=\"1\" class=\"dataframe\">\n",
       "  <thead>\n",
       "    <tr style=\"text-align: right;\">\n",
       "      <th></th>\n",
       "      <th>Hours Studied</th>\n",
       "      <th>Previous Scores</th>\n",
       "      <th>Extracurricular Activities</th>\n",
       "      <th>Sleep Hours</th>\n",
       "      <th>Sample Question Papers Practiced</th>\n",
       "      <th>Performance Index</th>\n",
       "    </tr>\n",
       "  </thead>\n",
       "  <tbody>\n",
       "    <tr>\n",
       "      <th>0</th>\n",
       "      <td>7</td>\n",
       "      <td>99</td>\n",
       "      <td>1</td>\n",
       "      <td>9</td>\n",
       "      <td>1</td>\n",
       "      <td>91.0</td>\n",
       "    </tr>\n",
       "    <tr>\n",
       "      <th>1</th>\n",
       "      <td>4</td>\n",
       "      <td>82</td>\n",
       "      <td>0</td>\n",
       "      <td>4</td>\n",
       "      <td>2</td>\n",
       "      <td>65.0</td>\n",
       "    </tr>\n",
       "    <tr>\n",
       "      <th>2</th>\n",
       "      <td>8</td>\n",
       "      <td>51</td>\n",
       "      <td>1</td>\n",
       "      <td>7</td>\n",
       "      <td>2</td>\n",
       "      <td>45.0</td>\n",
       "    </tr>\n",
       "    <tr>\n",
       "      <th>3</th>\n",
       "      <td>5</td>\n",
       "      <td>52</td>\n",
       "      <td>1</td>\n",
       "      <td>5</td>\n",
       "      <td>2</td>\n",
       "      <td>36.0</td>\n",
       "    </tr>\n",
       "    <tr>\n",
       "      <th>4</th>\n",
       "      <td>7</td>\n",
       "      <td>75</td>\n",
       "      <td>0</td>\n",
       "      <td>8</td>\n",
       "      <td>5</td>\n",
       "      <td>66.0</td>\n",
       "    </tr>\n",
       "  </tbody>\n",
       "</table>\n",
       "</div>"
      ],
      "text/plain": [
       "   Hours Studied  Previous Scores  Extracurricular Activities  Sleep Hours  \\\n",
       "0              7               99                           1            9   \n",
       "1              4               82                           0            4   \n",
       "2              8               51                           1            7   \n",
       "3              5               52                           1            5   \n",
       "4              7               75                           0            8   \n",
       "\n",
       "   Sample Question Papers Practiced  Performance Index  \n",
       "0                                 1               91.0  \n",
       "1                                 2               65.0  \n",
       "2                                 2               45.0  \n",
       "3                                 2               36.0  \n",
       "4                                 5               66.0  "
      ]
     },
     "execution_count": 158,
     "metadata": {},
     "output_type": "execute_result"
    }
   ],
   "source": [
    "df['Extracurricular Activities'] = df['Extracurricular Activities'].map({'Yes':1, 'No':0})\n",
    "df.head(5)"
   ]
  },
  {
   "cell_type": "markdown",
   "id": "63521567",
   "metadata": {},
   "source": [
    "## 2.1 Data Exploration and Visualization"
   ]
  },
  {
   "cell_type": "code",
   "execution_count": 10,
   "id": "d432255e",
   "metadata": {},
   "outputs": [
    {
     "data": {
      "image/png": "[encoded data removed]",
      "text/plain": [
       "<Figure size 1000x600 with 2 Axes>"
      ]
     },
     "metadata": {
      "needs_background": "light"
     },
     "output_type": "display_data"
    }
   ],
   "source": [
    "# Check for Correleation of each columns\n",
    "corr = df.corr()\n",
    "plt.title(\"Correlation Matrix\")\n",
    "sns.heatmap(corr, annot=True, fmt=\".2f\",cmap='viridis', cbar=True)\n",
    "plt.show()"
   ]
  },
  {
   "cell_type": "markdown",
   "id": "9ac3722e",
   "metadata": {},
   "source": [
    "## 2.2 Data Splitting"
   ]
  },
  {
   "cell_type": "code",
   "execution_count": 11,
   "id": "1f15d088",
   "metadata": {},
   "outputs": [],
   "source": [
    "# Input column is X and Target column is y\n",
    "X = df[['Hours Studied','Previous Scores']]\n",
    "y = df['Performance Index']"
   ]
  },
  {
   "cell_type": "code",
   "execution_count": 12,
   "id": "7c3f79bb",
   "metadata": {},
   "outputs": [],
   "source": [
    "# Splitting the dataset into the Training set and Test set\n",
    "X_train, X_test, y_train, y_test = train_test_split(X, y, test_size = 0.2, random_state = 42) "
   ]
  },
  {
   "cell_type": "code",
   "execution_count": 13,
   "id": "1cdc53ac",
   "metadata": {},
   "outputs": [],
   "source": [
    "# using StandardScaler\n",
    "scaler = StandardScaler()\n",
    "X_train = scaler.fit_transform(X_train)\n",
    "X_test = scaler.transform(X_test)"
   ]
  },
  {
   "cell_type": "markdown",
   "id": "b3b7186b",
   "metadata": {},
   "source": [
    "# 3. Modelling"
   ]
  },
  {
   "cell_type": "code",
   "execution_count": 136,
   "id": "84f9a5fa",
   "metadata": {},
   "outputs": [],
   "source": [
    "def evaluate_model(model, X_train, y_train, X_test, y_test):\n",
    "    # Train the model\n",
    "    model.fit(X_train, y_train)\n",
    "    \n",
    "    # Predict on training and testing data\n",
    "    y_train_pred = model.predict(X_train)\n",
    "    y_test_pred = model.predict(X_test)\n",
    "    \n",
    "    # Calculate R^2 scores\n",
    "    train_r2 = r2_score(y_train, y_train_pred)*100\n",
    "    test_r2 = r2_score(y_test, y_test_pred)*100\n",
    "    \n",
    "    # Calculate RMSE\n",
    "    train_rmse = np.sqrt(mean_squared_error(y_train, y_train_pred))\n",
    "    test_rmse = np.sqrt(mean_squared_error(y_test, y_test_pred))\n",
    "    \n",
    "    # Print the scores\n",
    "    print(f\"Training Score (R^2): {train_r2}\")\n",
    "    print(f\"Testing Score (R^2): {test_r2}\")\n",
    "    print(f\"Training RMSE: {train_rmse}\")\n",
    "    print(f\"Testing RMSE: {test_rmse}\")\n",
    "    \n",
    "    return test_r2, test_rmse\n",
    "\n",
    "# Initialize a list to store the results\n",
    "results = []"
   ]
  },
  {
   "cell_type": "markdown",
   "id": "b667ea34",
   "metadata": {},
   "source": [
    "## 3.1 Linear Regression"
   ]
  },
  {
   "cell_type": "code",
   "execution_count": 138,
   "id": "513a4cf8",
   "metadata": {},
   "outputs": [
    {
     "name": "stdout",
     "output_type": "stream",
     "text": [
      "LinearRegression\n",
      "Training Score (R^2): 98.58696583934669\n",
      "Testing Score (R^2): 98.5855014245765\n",
      "Training RMSE: 2.2824274304787613\n",
      "Testing RMSE: 2.289524227116088\n"
     ]
    }
   ],
   "source": [
    "linear_model = LinearRegression()\n",
    "print(\"LinearRegression\")\n",
    "test_r2, test_rmse = evaluate_model(linear_model, X_train, y_train, X_test, y_test)\n",
    "results.append(['Linear Regression', test_r2, test_rmse])"
   ]
  },
  {
   "cell_type": "markdown",
   "id": "4a9f6a30",
   "metadata": {},
   "source": [
    "## 3.2 Polynomial Regression"
   ]
  },
  {
   "cell_type": "code",
   "execution_count": 140,
   "id": "989c4295",
   "metadata": {},
   "outputs": [
    {
     "name": "stdout",
     "output_type": "stream",
     "text": [
      "Polynomial Regression:\n",
      "Training Score (R^2): 98.58760527867469\n",
      "Testing Score (R^2): 98.58563492759195\n",
      "Training RMSE: 2.281910939422129\n",
      "Testing RMSE: 2.289416179781838\n"
     ]
    }
   ],
   "source": [
    "# Create a polynomial features object of degree 2\n",
    "poly = PolynomialFeatures(degree=2)\n",
    "X_train_poly = poly.fit_transform(X_train)\n",
    "X_test_poly = poly.transform(X_test)\n",
    "\n",
    "# Create a linear regression model\n",
    "model = LinearRegression()\n",
    "\n",
    "# Evaluate the model\n",
    "print(\"Polynomial Regression:\")\n",
    "test_r2, test_rmse = evaluate_model(model, X_train_poly, y_train, X_test_poly, y_test)\n",
    "results.append(['Polynomial Regression', test_r2, test_rmse])"
   ]
  },
  {
   "cell_type": "markdown",
   "id": "26a06613",
   "metadata": {},
   "source": [
    "## 3.3 Ridge Regression"
   ]
  },
  {
   "cell_type": "code",
   "execution_count": 142,
   "id": "b9da6fdb",
   "metadata": {},
   "outputs": [
    {
     "name": "stdout",
     "output_type": "stream",
     "text": [
      "Ridge Model:\n",
      "Training Score (R^2): 98.5869658237001\n",
      "Testing Score (R^2): 98.5854836257077\n",
      "Training RMSE: 2.2824274431154676\n",
      "Testing RMSE: 2.2895386318012028\n",
      "Best alpha: 0.1\n"
     ]
    }
   ],
   "source": [
    "alphas = [0.005, 0.05, 0.1, 0.3, 1, 3, 5, 10, 15, 30, 80]\n",
    "\n",
    "# Initialize RidgeCV model with specified alphas and cross-validation folds\n",
    "ridgeCV = RidgeCV(alphas=alphas, cv=4)\n",
    "print(\"Ridge Model:\")\n",
    "test_r2, test_rmse = evaluate_model(ridgeCV, X_train, y_train, X_test, y_test)\n",
    "results.append(['Ridge Regression', test_r2, test_rmse])\n",
    "print(f\"Best alpha: {ridgeCV.alpha_}\")"
   ]
  },
  {
   "cell_type": "markdown",
   "id": "9d52ca44",
   "metadata": {},
   "source": [
    "## 3.4  Lasso Regression"
   ]
  },
  {
   "cell_type": "code",
   "execution_count": 143,
   "id": "31cb422c",
   "metadata": {},
   "outputs": [
    {
     "name": "stdout",
     "output_type": "stream",
     "text": [
      "Lasso Model:\n",
      "Training Score (R^2): 98.58696583929184\n",
      "Testing Score (R^2): 98.58550064139607\n",
      "Training RMSE: 2.282427430523067\n",
      "Testing RMSE: 2.2895248609485868\n",
      "Best alpha: 1e-05\n"
     ]
    }
   ],
   "source": [
    "alphas2 = np.array([1e-5, 5e-5, 0.0001, 0.0005, 0.001, 0.005, 0.01, 0.05, 0.1, 0.5, 1])\n",
    "\n",
    "# Initialize LassoCV model with specified alphas, maximum iterations, and cross-validation folds\n",
    "lassoCV = LassoCV(alphas=alphas2, max_iter=50000, cv=3)\n",
    "print(\"Lasso Model:\")\n",
    "test_r2, test_rmse = evaluate_model(lassoCV, X_train, y_train, X_test, y_test)\n",
    "results.append(['Lasso Regression', test_r2, test_rmse])\n",
    "print(f\"Best alpha: {lassoCV.alpha_}\")"
   ]
  },
  {
   "cell_type": "markdown",
   "id": "b05560ab",
   "metadata": {},
   "source": [
    "## 3.5 ElasticNet"
   ]
  },
  {
   "cell_type": "code",
   "execution_count": 144,
   "id": "46ebffbd",
   "metadata": {},
   "outputs": [
    {
     "name": "stdout",
     "output_type": "stream",
     "text": [
      "ElasticNet Model:\n",
      "Training Score (R^2): 98.58696581252097\n",
      "Testing Score (R^2): 98.58548012328893\n",
      "Training RMSE: 2.282427452144111\n",
      "Testing RMSE: 2.2895414663099527\n",
      "Best alpha: 0.0001, Best l1_ratio: 0.9\n"
     ]
    }
   ],
   "source": [
    "alphas2 = np.array([1e-5, 5e-5, 0.0001, 0.0005, 0.001, 0.005, 0.01, 0.05, 0.1, 0.5, 1])\n",
    "l1_ratios = np.linspace(0.1, 0.9, 9)\n",
    "\n",
    "# Initialize ElasticNetCV model with specified alphas, l1_ratios, maximum iterations, and cross-validation folds\n",
    "elasticNetCV = ElasticNetCV(alphas=alphas2, l1_ratio=l1_ratios, max_iter=10000)\n",
    "print(\"ElasticNet Model:\")\n",
    "test_r2, test_rmse = evaluate_model(elasticNetCV, X_train, y_train, X_test, y_test)\n",
    "results.append(['ElasticNet Regression', test_r2, test_rmse])\n",
    "print(f\"Best alpha: {elasticNetCV.alpha_}, Best l1_ratio: {elasticNetCV.l1_ratio_}\")"
   ]
  },
  {
   "cell_type": "markdown",
   "id": "6d490b79",
   "metadata": {},
   "source": [
    "## 3.6 Decision Tree Regressor"
   ]
  },
  {
   "cell_type": "code",
   "execution_count": 145,
   "id": "79c575c1",
   "metadata": {},
   "outputs": [
    {
     "name": "stdout",
     "output_type": "stream",
     "text": [
      "Decision Tree:\n",
      "Training Score (R^2): 98.66587276390435\n",
      "Testing Score (R^2): 98.5134820738645\n",
      "Training RMSE: 2.2177841362213067\n",
      "Testing RMSE: 2.347086317315597\n"
     ]
    }
   ],
   "source": [
    "# Initialize Decision Tree Regressor with best parameters\n",
    "dt_model = DecisionTreeRegressor(max_depth=30, min_samples_leaf=10, random_state=42)\n",
    "\n",
    "print(\"Decision Tree:\")\n",
    "test_r2, test_rmse = evaluate_model(dt_model, X_train, y_train, X_test, y_test)\n",
    "results.append(['Decision Tree Regression', test_r2, test_rmse])"
   ]
  },
  {
   "cell_type": "markdown",
   "id": "70e2ead2",
   "metadata": {},
   "source": [
    "## 3.7 Random Forest Regression"
   ]
  },
  {
   "cell_type": "code",
   "execution_count": 146,
   "id": "32d49d5c",
   "metadata": {},
   "outputs": [
    {
     "name": "stdout",
     "output_type": "stream",
     "text": [
      "Random Forest:\n",
      "Training Score (R^2): 98.65789930384949\n",
      "Testing Score (R^2): 98.52494368757101\n",
      "Training RMSE: 2.224401597439517\n",
      "Testing RMSE: 2.3380203477472805\n"
     ]
    }
   ],
   "source": [
    "rf_model = RandomForestRegressor(n_estimators=500, max_depth=8, min_samples_leaf=5, n_jobs=-1, random_state=42)\n",
    "\n",
    "print(\"Random Forest:\")\n",
    "test_r2, test_rmse = evaluate_model(rf_model, X_train, y_train, X_test, y_test)\n",
    "results.append(['Random Forest Regression', test_r2, test_rmse])"
   ]
  },
  {
   "cell_type": "markdown",
   "id": "fd5182b4",
   "metadata": {},
   "source": [
    "## 3.8 Support Vector Regression (SVR)"
   ]
  },
  {
   "cell_type": "code",
   "execution_count": 147,
   "id": "c9c0e90a",
   "metadata": {},
   "outputs": [
    {
     "name": "stdout",
     "output_type": "stream",
     "text": [
      "Support Vector Regressor:\n",
      "Training Score (R^2): 98.58651770152879\n",
      "Testing Score (R^2): 98.58780127282756\n",
      "Training RMSE: 2.282789332898403\n",
      "Testing RMSE: 2.2876621890573148\n"
     ]
    }
   ],
   "source": [
    "svr_model = SVR(C=15, epsilon=0.02, kernel='linear')\n",
    "\n",
    "print(\"Support Vector Regressor:\")\n",
    "test_r2, test_rmse = evaluate_model(svr_model, X_train, y_train, X_test, y_test)\n",
    "results.append(['Support Vector Regression', test_r2, test_rmse])"
   ]
  },
  {
   "cell_type": "markdown",
   "id": "37ec7f73",
   "metadata": {},
   "source": [
    "## 3.9 Gradient Boosting Regression"
   ]
  },
  {
   "cell_type": "code",
   "execution_count": 148,
   "id": "d203ddcc",
   "metadata": {},
   "outputs": [
    {
     "name": "stdout",
     "output_type": "stream",
     "text": [
      "XGBoost Regressor:\n",
      "Training Score (R^2): 98.5964268827699\n",
      "Testing Score (R^2): 98.58065440528469\n",
      "Training RMSE: 2.274773541659338\n",
      "Testing RMSE: 2.2934435939470137\n"
     ]
    }
   ],
   "source": [
    "# Initialize XGB Regressor\n",
    "xgb_model = XGBRegressor(n_jobs=-1, random_state=42, n_estimators=500,\n",
    "                    learning_rate=0.1, max_depth=15, subsample=0.8,\n",
    "                    colsample_bytree=0.7)\n",
    "\n",
    "# Evaluate the best model\n",
    "print(\"XGBoost Regressor:\")\n",
    "test_r2, test_rmse = evaluate_model(xgb_model, X_train, y_train, X_test, y_test)\n",
    "results.append(['Gradient Boosting Regression', test_r2, test_rmse])"
   ]
  },
  {
   "cell_type": "markdown",
   "id": "11de1615",
   "metadata": {},
   "source": [
    "# 4. Comparison of Models"
   ]
  },
  {
   "cell_type": "code",
   "execution_count": 151,
   "id": "59680afd",
   "metadata": {
    "scrolled": true
   },
   "outputs": [
    {
     "name": "stdout",
     "output_type": "stream",
     "text": [
      "                      Regressor  Test Score R²  Test RMSE\n",
      "0             Linear Regression      98.585501   2.289524\n",
      "1         Polynomial Regression      98.585635   2.289416\n",
      "2              Ridge Regression      98.585484   2.289539\n",
      "3              Lasso Regression      98.585501   2.289525\n",
      "4         ElasticNet Regression      98.585480   2.289541\n",
      "5      Decision Tree Regression      98.513482   2.347086\n",
      "6      Random Forest Regression      98.524944   2.338020\n",
      "7     Support Vector Regression      98.587801   2.287662\n",
      "8  Gradient Boosting Regression      98.580654   2.293444\n"
     ]
    }
   ],
   "source": [
    "# Create a DataFrame from the results\n",
    "results_df = pd.DataFrame(results, columns=['Regressor', 'Test Score R²', 'Test RMSE'])\n",
    "print(results_df)  # Print the results"
   ]
  },
  {
   "cell_type": "markdown",
   "id": "7029cf14",
   "metadata": {},
   "source": [
    "# 5. Actual vs Predicted"
   ]
  },
  {
   "cell_type": "code",
   "execution_count": 155,
   "id": "430a9a6f",
   "metadata": {},
   "outputs": [
    {
     "data": {
      "text/html": [
       "<div>\n",
       "<style scoped>\n",
       "    .dataframe tbody tr th:only-of-type {\n",
       "        vertical-align: middle;\n",
       "    }\n",
       "\n",
       "    .dataframe tbody tr th {\n",
       "        vertical-align: top;\n",
       "    }\n",
       "\n",
       "    .dataframe thead th {\n",
       "        text-align: right;\n",
       "    }\n",
       "</style>\n",
       "<table border=\"1\" class=\"dataframe\">\n",
       "  <thead>\n",
       "    <tr style=\"text-align: right;\">\n",
       "      <th></th>\n",
       "      <th>Actual</th>\n",
       "      <th>Predicted</th>\n",
       "    </tr>\n",
       "  </thead>\n",
       "  <tbody>\n",
       "    <tr>\n",
       "      <th>6252</th>\n",
       "      <td>51.0</td>\n",
       "      <td>55.0</td>\n",
       "    </tr>\n",
       "    <tr>\n",
       "      <th>4684</th>\n",
       "      <td>20.0</td>\n",
       "      <td>23.0</td>\n",
       "    </tr>\n",
       "    <tr>\n",
       "      <th>1731</th>\n",
       "      <td>46.0</td>\n",
       "      <td>47.0</td>\n",
       "    </tr>\n",
       "    <tr>\n",
       "      <th>4742</th>\n",
       "      <td>28.0</td>\n",
       "      <td>30.0</td>\n",
       "    </tr>\n",
       "    <tr>\n",
       "      <th>4521</th>\n",
       "      <td>41.0</td>\n",
       "      <td>44.0</td>\n",
       "    </tr>\n",
       "    <tr>\n",
       "      <th>...</th>\n",
       "      <td>...</td>\n",
       "      <td>...</td>\n",
       "    </tr>\n",
       "    <tr>\n",
       "      <th>6412</th>\n",
       "      <td>45.0</td>\n",
       "      <td>47.0</td>\n",
       "    </tr>\n",
       "    <tr>\n",
       "      <th>8285</th>\n",
       "      <td>66.0</td>\n",
       "      <td>62.0</td>\n",
       "    </tr>\n",
       "    <tr>\n",
       "      <th>7853</th>\n",
       "      <td>16.0</td>\n",
       "      <td>17.0</td>\n",
       "    </tr>\n",
       "    <tr>\n",
       "      <th>1095</th>\n",
       "      <td>65.0</td>\n",
       "      <td>63.0</td>\n",
       "    </tr>\n",
       "    <tr>\n",
       "      <th>6929</th>\n",
       "      <td>47.0</td>\n",
       "      <td>46.0</td>\n",
       "    </tr>\n",
       "  </tbody>\n",
       "</table>\n",
       "<p>2000 rows × 2 columns</p>\n",
       "</div>"
      ],
      "text/plain": [
       "      Actual  Predicted\n",
       "6252    51.0       55.0\n",
       "4684    20.0       23.0\n",
       "1731    46.0       47.0\n",
       "4742    28.0       30.0\n",
       "4521    41.0       44.0\n",
       "...      ...        ...\n",
       "6412    45.0       47.0\n",
       "8285    66.0       62.0\n",
       "7853    16.0       17.0\n",
       "1095    65.0       63.0\n",
       "6929    47.0       46.0\n",
       "\n",
       "[2000 rows x 2 columns]"
      ]
     },
     "execution_count": 155,
     "metadata": {},
     "output_type": "execute_result"
    }
   ],
   "source": [
    "# For Support Vector Regression\n",
    "y_test_pred  = svr_model.predict(X_test)\n",
    "\n",
    "pred_df= pd.DataFrame({'Actual': np.round(y_test, 0), \n",
    "                   'Predicted': np.round(y_test_pred, 0)})\n",
    "pred_df"
   ]
  },
  {
   "cell_type": "markdown",
   "id": "200d7b35",
   "metadata": {},
   "source": [
    "# Overall Conclusion\n",
    "\n",
    " - **SVR Performance:** SVR demonstrates high accuracy with a Test Score R² of **98.59%** and low RMSE of **2.29**. This indicates that SVR fits the data well and generalizes effectively, similar to other linear regression-based models such as Ridge, Lasso, and ElasticNet.\n",
    "\n",
    "- **Tree-Based Models:** Decision Tree and Random Forest perform well but show slightly lower R² scores and marginally higher RMSE compared to linear models. This could be attributed to their tendency to overfit.\n",
    "\n",
    "- **Gradient Boosting Regression:** Stands out by achieving comparable performance to linear models, indicating effective ensemble learning and boosting.\n",
    "\n",
    "# Recommendation\n",
    "\n",
    "- **For Predictive Tasks:**\n",
    "  - **Interpretability and Simplicity:** Linear regression-based models (including Ridge, Lasso, ElasticNet, and SVR) are suitable choices due to their high accuracy and ease of interpretation.\n",
    "  - **Complex Relationships:** If capturing more complex relationships or benefiting from ensemble learning is necessary, Gradient Boosting Regression is recommended for its robust performance.\n"
   ]
  },
  {
   "cell_type": "code",
   "execution_count": 159,
   "id": "45ae5905",
   "metadata": {},
   "outputs": [],
   "source": [
    "pred_df.to_csv('Performance.csv', index=None)"
   ]
  },
  {
   "cell_type": "code",
   "execution_count": null,
   "id": "1f4aa34f",
   "metadata": {},
   "outputs": [],
   "source": []
  }
 ],
 "metadata": {
  "kernelspec": {
   "display_name": "Python 3 (ipykernel)",
   "language": "python",
   "name": "python3"
  },
  "language_info": {
   "codemirror_mode": {
    "name": "ipython",
    "version": 3
   },
   "file_extension": ".py",
   "mimetype": "text/x-python",
   "name": "python",
   "nbconvert_exporter": "python",
   "pygments_lexer": "ipython3",
   "version": "3.11.5"
  }
 },
 "nbformat": 4,
 "nbformat_minor": 5
}
